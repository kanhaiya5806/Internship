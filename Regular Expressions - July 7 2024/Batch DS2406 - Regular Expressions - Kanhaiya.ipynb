{
 "cells": [
  {
   "cell_type": "markdown",
   "id": "3d3be081",
   "metadata": {},
   "source": [
    "# Batch DS2406 - Regular Expressions"
   ]
  },
  {
   "cell_type": "markdown",
   "id": "ac0fd6b2",
   "metadata": {},
   "source": [
    "### Question 1 - Write a Python program to replace all occurrences of a space, comma, or dot with a colon."
   ]
  },
  {
   "cell_type": "code",
   "execution_count": 21,
   "id": "267297f1",
   "metadata": {},
   "outputs": [],
   "source": [
    "import re"
   ]
  },
  {
   "cell_type": "code",
   "execution_count": 16,
   "id": "ca954e21",
   "metadata": {
    "scrolled": true
   },
   "outputs": [
    {
     "name": "stdout",
     "output_type": "stream",
     "text": [
      "I:am:Kanhaiya:from:batch:DS2406:FlipRobo:\n"
     ]
    }
   ],
   "source": [
    "String1 = \"I am Kanhaiya from batch DS2406, FlipRobo.\"\n",
    "NewString = re.sub('[ |,|.]+',\":\",String1)\n",
    "print(NewString)"
   ]
  },
  {
   "cell_type": "code",
   "execution_count": null,
   "id": "028ff53a",
   "metadata": {},
   "outputs": [],
   "source": []
  },
  {
   "cell_type": "markdown",
   "id": "70dcb86d",
   "metadata": {},
   "source": [
    "### Question 2 -  Create a dataframe using the dictionary below and remove everything (commas (,), !, XXXX, ;, etc.) from the columns except words.\n",
    "##### Dictionary- {'SUMMARY' : ['hello, world!', 'XXXXX test', '123four, five:; six...']}"
   ]
  },
  {
   "cell_type": "code",
   "execution_count": 17,
   "id": "af5cefa2",
   "metadata": {},
   "outputs": [],
   "source": [
    "import pandas as pd"
   ]
  },
  {
   "cell_type": "code",
   "execution_count": 22,
   "id": "fd448a20",
   "metadata": {},
   "outputs": [],
   "source": [
    "Dictionary={'SUMMARY' : ['hello, world!', 'XXXXX test', '123four, five:; six...']}\n",
    "df=pd.DataFrame(Dictionary)"
   ]
  },
  {
   "cell_type": "code",
   "execution_count": 31,
   "id": "e27f0c0c",
   "metadata": {},
   "outputs": [],
   "source": [
    "Pattern = \"XXXXX|,|!|\\d|:|;|\\.\""
   ]
  },
  {
   "cell_type": "code",
   "execution_count": 32,
   "id": "7b587ce9",
   "metadata": {},
   "outputs": [
    {
     "data": {
      "text/plain": [
       "0      hello world\n",
       "1             test\n",
       "2    four five six\n",
       "Name: SUMMARY, dtype: object"
      ]
     },
     "execution_count": 32,
     "metadata": {},
     "output_type": "execute_result"
    }
   ],
   "source": [
    "df['SUMMARY'].str.replace(Pattern,\"\",regex=True)"
   ]
  },
  {
   "cell_type": "code",
   "execution_count": null,
   "id": "e55939e9",
   "metadata": {},
   "outputs": [],
   "source": []
  },
  {
   "cell_type": "markdown",
   "id": "75ff54e8",
   "metadata": {},
   "source": [
    "### Question 3 - Create a function in python to find all words that are at least 4 characters long in a string. The use of the re.compile() method is mandatory."
   ]
  },
  {
   "cell_type": "code",
   "execution_count": 48,
   "id": "e8a06389",
   "metadata": {},
   "outputs": [],
   "source": [
    "def my_function(my_string):\n",
    "    \n",
    "    pattern = re.compile(r'\\b\\w{4}\\b')\n",
    "    Result=pattern.findall(my_string)\n",
    "    return Result"
   ]
  },
  {
   "cell_type": "code",
   "execution_count": 51,
   "id": "b4aa588b",
   "metadata": {},
   "outputs": [],
   "source": [
    "my_string=\"Hell oskar world tera has a long berra FOUR\"\n",
    "\n",
    "Output=my_function(my_string)"
   ]
  },
  {
   "cell_type": "code",
   "execution_count": 52,
   "id": "3dc66085",
   "metadata": {},
   "outputs": [
    {
     "name": "stdout",
     "output_type": "stream",
     "text": [
      "['Hell', 'tera', 'long', 'FOUR']\n"
     ]
    }
   ],
   "source": [
    "print(Output)"
   ]
  },
  {
   "cell_type": "code",
   "execution_count": null,
   "id": "de7558b6",
   "metadata": {},
   "outputs": [],
   "source": []
  },
  {
   "cell_type": "markdown",
   "id": "784dd2ad",
   "metadata": {},
   "source": [
    "### Question 4 - Create a function in python to find all three, four, and five character words in a string. The use of the re.compile() method is mandatory."
   ]
  },
  {
   "cell_type": "code",
   "execution_count": 54,
   "id": "613742ae",
   "metadata": {},
   "outputs": [
    {
     "name": "stdout",
     "output_type": "stream",
     "text": [
      "['Hell', 'oskar', 'world', 'tera', 'has', 'long', 'berra', 'FOUR']\n"
     ]
    }
   ],
   "source": [
    "def my_function(my_string):\n",
    "    \n",
    "    pattern = re.compile(r'\\b\\w{3,5}\\b')\n",
    "    Result=pattern.findall(my_string)\n",
    "    return Result\n",
    "\n",
    "my_string=\"Hell oskar world tera has a long berra FOUR\"\n",
    "\n",
    "Output=my_function(my_string)\n",
    "\n",
    "print(Output)"
   ]
  },
  {
   "cell_type": "code",
   "execution_count": null,
   "id": "41295d62",
   "metadata": {},
   "outputs": [],
   "source": []
  },
  {
   "cell_type": "markdown",
   "id": "2672845e",
   "metadata": {},
   "source": [
    "### Question 5 - Create a function in Python to remove the parenthesis in a list of strings. The use of the re.compile() method is mandatory.\n",
    "\n",
    "Sample Text: [\"example (.com)\", \"hr@fliprobo (.com)\", \"github (.com)\", \"Hello (Data Science World)\", \"Data (Scientist)\"]\n",
    "\n",
    "Expected Output:\n",
    "\n",
    "example.com\n",
    "\n",
    "hr@fliprobo.com\n",
    "\n",
    "github.com\n",
    "\n",
    "Hello Data Science World\n"
   ]
  },
  {
   "cell_type": "code",
   "execution_count": 59,
   "id": "4956ab46",
   "metadata": {},
   "outputs": [
    {
     "name": "stdout",
     "output_type": "stream",
     "text": [
      "example .com\n",
      "hr@fliprobo .com\n",
      "github .com\n",
      "Hello Data Science World\n",
      "Data Scientist\n"
     ]
    }
   ],
   "source": [
    "def my_function(my_string):\n",
    "    \n",
    "    pattern = re.compile(r'[(|)]')\n",
    "    Result=[pattern.sub('',string) for string in my_string]\n",
    "    return Result\n",
    "\n",
    "my_string = [\"example (.com)\", \"hr@fliprobo (.com)\", \"github (.com)\", \"Hello (Data Science World)\", \"Data (Scientist)\"]\n",
    "\n",
    "Output=my_function(my_string)\n",
    "\n",
    "for string in Output:\n",
    "    print(string)"
   ]
  },
  {
   "cell_type": "code",
   "execution_count": null,
   "id": "ba9991db",
   "metadata": {},
   "outputs": [],
   "source": []
  },
  {
   "cell_type": "markdown",
   "id": "8c86c57b",
   "metadata": {},
   "source": [
    "### Question 6 - Write a python program to remove the parenthesis area from the text stored in the text file using Regular Expression.\n",
    "\n",
    "Sample Text: [\"example (.com)\", \"hr@fliprobo (.com)\", \"github (.com)\", \"Hello (Data Science World)\", \"Data (Scientist)\"]\n",
    "Expected Output: [\"example\", \"hr@fliprobo\", \"github\", \"Hello\", \"Data\"]\n",
    "\n",
    "Note - \n",
    "Store given sample text in the text file and then to remove the parenthesis area from the text."
   ]
  },
  {
   "cell_type": "code",
   "execution_count": 24,
   "id": "84444360",
   "metadata": {},
   "outputs": [
    {
     "name": "stdout",
     "output_type": "stream",
     "text": [
      "\"example .com\", \"hr@fliprobo .com\", \"github .com\", \"Hello Data Science World\", \"Data Scientist\"\n"
     ]
    }
   ],
   "source": [
    "with open ('Question_6_Sample_Text.txt') as file:\n",
    "\n",
    "    for line in file:\n",
    "    \n",
    "        result = re.sub(r'[(|)]',\"\",line)\n",
    "        \n",
    "        print(result)"
   ]
  },
  {
   "cell_type": "code",
   "execution_count": null,
   "id": "8b7e1c76",
   "metadata": {},
   "outputs": [],
   "source": []
  },
  {
   "attachments": {},
   "cell_type": "markdown",
   "id": "3c4db9c8",
   "metadata": {},
   "source": [
    "### Question 7- Write a regular expression in Python to split a string into uppercase letters.\n",
    "\n",
    "Sample text: “ImportanceOfRegularExpressionsInPython”\n",
    "\n",
    "Expected Output: [‘Importance’, ‘Of’, ‘Regular’, ‘Expression’, ‘In’, ‘Python’]"
   ]
  },
  {
   "cell_type": "code",
   "execution_count": 29,
   "id": "655dfd3a",
   "metadata": {},
   "outputs": [
    {
     "name": "stdout",
     "output_type": "stream",
     "text": [
      "['Importance', 'Of', 'Regular', 'Expressions', 'In', 'Python']\n"
     ]
    }
   ],
   "source": [
    "import re\n",
    "\n",
    "my_string = \"ImportanceOfRegularExpressionsInPython\"\n",
    "\n",
    "my_pattern = '[A-Z][a-z]*'\n",
    "\n",
    "my_output = re.findall(my_pattern, my_string)\n",
    "\n",
    "print(my_output)\n",
    "\n"
   ]
  },
  {
   "cell_type": "code",
   "execution_count": null,
   "id": "c450ec7d",
   "metadata": {},
   "outputs": [],
   "source": []
  },
  {
   "cell_type": "markdown",
   "id": "808a92fd",
   "metadata": {},
   "source": [
    "### Question 8- Create a function in python to insert spaces between words starting with numbers.\n",
    "\n",
    "Sample Text: “RegularExpression1IsAn2ImportantTopic3InPython\"\n",
    "\n",
    "Expected Output: RegularExpression 1IsAn 2ImportantTopic 3InPython"
   ]
  },
  {
   "cell_type": "code",
   "execution_count": 35,
   "id": "fc401588",
   "metadata": {},
   "outputs": [
    {
     "name": "stdout",
     "output_type": "stream",
     "text": [
      "RegularExpression 1IsAn 2ImportantTopic 3InPython\n"
     ]
    }
   ],
   "source": [
    "import re\n",
    "\n",
    "my_string = \"RegularExpression1IsAn2ImportantTopic3InPython\"\n",
    "\n",
    "my_pattern = r'(\\d+)([a-zA-Z]+)'\n",
    "\n",
    "my_output = re.sub(my_pattern,r' \\1\\2',my_string)\n",
    "\n",
    "print(my_output)"
   ]
  },
  {
   "cell_type": "code",
   "execution_count": null,
   "id": "0c190573",
   "metadata": {},
   "outputs": [],
   "source": []
  },
  {
   "cell_type": "markdown",
   "id": "efecb579",
   "metadata": {},
   "source": [
    "### Question 9 - Create a function in python to insert spaces between words starting with capital letters or with numbers.\n",
    "\n",
    "Sample Text: “RegularExpression1IsAn2ImportantTopic3InPython\"\n",
    "\n",
    "Expected Output:  RegularExpression 1 IsAn 2 ImportantTopic 3 InPython\n"
   ]
  },
  {
   "cell_type": "code",
   "execution_count": 38,
   "id": "5ec331d6",
   "metadata": {},
   "outputs": [
    {
     "name": "stdout",
     "output_type": "stream",
     "text": [
      "RegularExpression 1 IsAn 2 ImportantTopic 3 InPython\n"
     ]
    }
   ],
   "source": [
    "import re\n",
    "\n",
    "my_string = \"RegularExpression1IsAn2ImportantTopic3InPython\"\n",
    "\n",
    "my_pattern = r'(\\d+)([a-zA-Z]+)'\n",
    "\n",
    "my_output = re.sub(my_pattern,r' \\1 \\2',my_string)\n",
    "\n",
    "print(my_output)"
   ]
  },
  {
   "cell_type": "code",
   "execution_count": null,
   "id": "77ba8968",
   "metadata": {},
   "outputs": [],
   "source": []
  },
  {
   "attachments": {},
   "cell_type": "markdown",
   "id": "99ef5317",
   "metadata": {},
   "source": [
    "### Question 10 - Use the github link below to read the data and create a dataframe. After creating the dataframe extract the first 5 letters of each country and store in the dataframe under a new column called first_five_letters.\n",
    "\n",
    "Github Link-  https://raw.githubusercontent.com/dsrscientist/DSData/master/happiness_score_dataset.csv\n"
   ]
  },
  {
   "cell_type": "code",
   "execution_count": 55,
   "id": "d5503a7d",
   "metadata": {},
   "outputs": [],
   "source": [
    "import re\n",
    "import pandas as pd\n",
    "\n",
    "my_url = \"https://raw.githubusercontent.com/dsrscientist/DSData/master/happiness_score_dataset.csv\"\n",
    "\n",
    "my_df = pd.read_csv(my_url)\n",
    "\n",
    "# print(my_df)\n"
   ]
  },
  {
   "cell_type": "code",
   "execution_count": 60,
   "id": "17644011",
   "metadata": {},
   "outputs": [
    {
     "name": "stdout",
     "output_type": "stream",
     "text": [
      "         Country                           Region  Happiness Rank  \\\n",
      "0    Switzerland                   Western Europe               1   \n",
      "1        Iceland                   Western Europe               2   \n",
      "2        Denmark                   Western Europe               3   \n",
      "3         Norway                   Western Europe               4   \n",
      "4         Canada                    North America               5   \n",
      "..           ...                              ...             ...   \n",
      "153       Rwanda               Sub-Saharan Africa             154   \n",
      "154        Benin               Sub-Saharan Africa             155   \n",
      "155        Syria  Middle East and Northern Africa             156   \n",
      "156      Burundi               Sub-Saharan Africa             157   \n",
      "157         Togo               Sub-Saharan Africa             158   \n",
      "\n",
      "     Happiness Score  Standard Error  Economy (GDP per Capita)   Family  \\\n",
      "0              7.587         0.03411                   1.39651  1.34951   \n",
      "1              7.561         0.04884                   1.30232  1.40223   \n",
      "2              7.527         0.03328                   1.32548  1.36058   \n",
      "3              7.522         0.03880                   1.45900  1.33095   \n",
      "4              7.427         0.03553                   1.32629  1.32261   \n",
      "..               ...             ...                       ...      ...   \n",
      "153            3.465         0.03464                   0.22208  0.77370   \n",
      "154            3.340         0.03656                   0.28665  0.35386   \n",
      "155            3.006         0.05015                   0.66320  0.47489   \n",
      "156            2.905         0.08658                   0.01530  0.41587   \n",
      "157            2.839         0.06727                   0.20868  0.13995   \n",
      "\n",
      "     Health (Life Expectancy)  Freedom  Trust (Government Corruption)  \\\n",
      "0                     0.94143  0.66557                        0.41978   \n",
      "1                     0.94784  0.62877                        0.14145   \n",
      "2                     0.87464  0.64938                        0.48357   \n",
      "3                     0.88521  0.66973                        0.36503   \n",
      "4                     0.90563  0.63297                        0.32957   \n",
      "..                        ...      ...                            ...   \n",
      "153                   0.42864  0.59201                        0.55191   \n",
      "154                   0.31910  0.48450                        0.08010   \n",
      "155                   0.72193  0.15684                        0.18906   \n",
      "156                   0.22396  0.11850                        0.10062   \n",
      "157                   0.28443  0.36453                        0.10731   \n",
      "\n",
      "     Generosity  Dystopia Residual first_five_letters  \n",
      "0       0.29678            2.51738              Switz  \n",
      "1       0.43630            2.70201              Icela  \n",
      "2       0.34139            2.49204              Denma  \n",
      "3       0.34699            2.46531              Norwa  \n",
      "4       0.45811            2.45176              Canad  \n",
      "..          ...                ...                ...  \n",
      "153     0.22628            0.67042              Rwand  \n",
      "154     0.18260            1.63328              Benin  \n",
      "155     0.47179            0.32858              Syria  \n",
      "156     0.19727            1.83302              Burun  \n",
      "157     0.16681            1.56726               Togo  \n",
      "\n",
      "[158 rows x 13 columns]\n"
     ]
    }
   ],
   "source": [
    "# Changed the letter to \"5\" in question assuming typo error.\n",
    "\n",
    "my_df['first_five_letters'] = my_df['Country'].str[:5]\n",
    "\n",
    "print(my_df)"
   ]
  },
  {
   "cell_type": "code",
   "execution_count": null,
   "id": "98a269a0",
   "metadata": {},
   "outputs": [],
   "source": []
  },
  {
   "cell_type": "markdown",
   "id": "066aa7ec",
   "metadata": {},
   "source": [
    "### Question 11 - Write a Python program to match a string that contains only upper and lowercase letters, numbers, and underscores."
   ]
  },
  {
   "cell_type": "code",
   "execution_count": 113,
   "id": "1c67222a",
   "metadata": {},
   "outputs": [
    {
     "name": "stdout",
     "output_type": "stream",
     "text": [
      "Hello\n",
      "World\n",
      "123Four\n"
     ]
    }
   ],
   "source": [
    "import re\n",
    "\n",
    "my_string = [\"Hello\", \"World\", \" 123_Test\", \"123Four\", \"Five:;\", \"Six..\"]\n",
    "\n",
    "def match_string(my_string):\n",
    "\n",
    "    my_pattern = r'^[a-zA-Z0-9_]+$'\n",
    "\n",
    "#    if re.match(my_pattern , my_string):\n",
    "#        return True\n",
    "#    else:\n",
    "#        return False\n",
    "\n",
    "    return bool(re.match(my_pattern , my_string))\n",
    "\n",
    "for STR in my_string:\n",
    "    my_output = match_string(STR)\n",
    "#    print(STR,\":--> \", my_output)\n",
    "    if match_string(STR):\n",
    "        print(STR)\n"
   ]
  },
  {
   "cell_type": "code",
   "execution_count": null,
   "id": "24621a7c",
   "metadata": {},
   "outputs": [],
   "source": []
  },
  {
   "cell_type": "markdown",
   "id": "7fb162a6",
   "metadata": {},
   "source": [
    "### Question 12 - Write a Python program where a string will start with a specific number. "
   ]
  },
  {
   "cell_type": "code",
   "execution_count": 132,
   "id": "bad12dd2",
   "metadata": {},
   "outputs": [
    {
     "name": "stdout",
     "output_type": "stream",
     "text": [
      "123Hello\n",
      "123AnotherOne\n"
     ]
    }
   ],
   "source": [
    "import re\n",
    "\n",
    "my_strings = [\"123Hello\", \"456World\", \"789Example\", \"123AnotherOne\"]\n",
    "\n",
    "def my_number(my_string, number):\n",
    "\n",
    "    my_pattern = r'^' + str(number)\n",
    "    \n",
    "    if re.match(my_pattern, my_string):\n",
    "        return True\n",
    "    else:\n",
    "        return False\n",
    "\n",
    "number = 123\n",
    "\n",
    "for STR in my_strings:\n",
    "    if my_number(STR, number):\n",
    "        print(STR)\n"
   ]
  },
  {
   "cell_type": "code",
   "execution_count": null,
   "id": "66a234d9",
   "metadata": {},
   "outputs": [],
   "source": []
  },
  {
   "cell_type": "markdown",
   "id": "6a840315",
   "metadata": {},
   "source": [
    "### Question 13 - Write a Python program to remove leading zeros from an IP address"
   ]
  },
  {
   "cell_type": "code",
   "execution_count": 159,
   "id": "ea6818d3",
   "metadata": {},
   "outputs": [
    {
     "name": "stdout",
     "output_type": "stream",
     "text": [
      "10.68.1.1\n",
      "10.20.30.40\n",
      "172.16.252.1\n",
      "192.168.10.5\n"
     ]
    }
   ],
   "source": [
    "import re\n",
    "\n",
    "def remove_leading_zeros(ip_address):\n",
    "    pattern = r'\\b0+(\\d)'\n",
    "    \n",
    "    modified_ip_address = re.sub(pattern, r'\\1', ip_address)\n",
    "    \n",
    "    return modified_ip_address\n",
    "\n",
    "ip_addresses = [\"010.068.001.001\",\"010.020.030.040\",\"172.016.252.001\",\"192.168.010.005\"]\n",
    "\n",
    "for newip in ip_addresses:\n",
    "    new_ip = remove_leading_zeros(newip)\n",
    "    print(new_ip)\n"
   ]
  },
  {
   "cell_type": "code",
   "execution_count": null,
   "id": "73616e5b",
   "metadata": {},
   "outputs": [],
   "source": []
  },
  {
   "cell_type": "markdown",
   "id": "03e40377",
   "metadata": {},
   "source": [
    "### Question 14 - Write a regular expression in python to match a date string in the form of Month name followed by day number and year stored in a text file.\n",
    "\n",
    "Sample text :  ' On August 15th 1947 that India was declared independent from British colonialism, and the reins of control were handed over to the leaders of the Country’.\n",
    "\n",
    "    Expected Output- August 15th 1947\n",
    "\n",
    "    Note- Store given sample text in the text file and then extract the date string asked format.\n"
   ]
  },
  {
   "cell_type": "code",
   "execution_count": 190,
   "id": "d8bf5586",
   "metadata": {},
   "outputs": [
    {
     "name": "stdout",
     "output_type": "stream",
     "text": [
      "On August 15th 1947 that India was declared independent from British colonialism, and the reins of control were handed over to the leaders of the Country.\n",
      "\n"
     ]
    }
   ],
   "source": [
    "import re\n",
    "\n",
    "with open(\"Question_14_Sample_Text.txt\") as file:\n",
    "    sample_text = file.read()\n",
    "    print(sample_text)\n",
    "    \n",
    "my_pattern = r'\\b(January|February|March|April|May|June|July|August|September|October|November|December) \\d{1,2}(st|nd|rd|th)? \\d{4}\\b'\n",
    "\n",
    "    "
   ]
  },
  {
   "cell_type": "code",
   "execution_count": 195,
   "id": "fdea2c84",
   "metadata": {},
   "outputs": [
    {
     "name": "stdout",
     "output_type": "stream",
     "text": [
      "August 15th 1947\n"
     ]
    }
   ],
   "source": [
    "# my_output = re.findall(my_pattern,sample_text)\n",
    "\n",
    "my_output = re.search(my_pattern,sample_text)\n",
    "\n",
    "print(my_output.group())"
   ]
  },
  {
   "cell_type": "code",
   "execution_count": null,
   "id": "a90b7d83",
   "metadata": {},
   "outputs": [],
   "source": []
  },
  {
   "cell_type": "markdown",
   "id": "54783634",
   "metadata": {},
   "source": [
    "### Question 15- Write a Python program to search some literals strings in a string. \n",
    "\n",
    "Sample text : 'The quick brown fox jumps over the lazy dog.'\n",
    "\n",
    "    Searched words : 'fox', 'dog', 'horse'"
   ]
  },
  {
   "cell_type": "code",
   "execution_count": 210,
   "id": "aa4f9f31",
   "metadata": {},
   "outputs": [
    {
     "name": "stdout",
     "output_type": "stream",
     "text": [
      "['fox', 'dog']\n"
     ]
    }
   ],
   "source": [
    "import re\n",
    "\n",
    "search_words = ['fox', 'dog', 'horse']\n",
    "\n",
    "my_string = \"The quick brown fox jumps over the lazy dog.\"\n",
    "\n",
    "def search_string(my_string,search_words):\n",
    "    found = []\n",
    "    for each_search in search_words:\n",
    "        if re.search(each_search,my_string):\n",
    "            found.append(each_search)\n",
    "    return found\n",
    "\n",
    "my_output = search_string(my_string,search_words)\n",
    "print(my_output)"
   ]
  },
  {
   "cell_type": "code",
   "execution_count": null,
   "id": "727e11e8",
   "metadata": {},
   "outputs": [],
   "source": []
  },
  {
   "cell_type": "markdown",
   "id": "621c4508",
   "metadata": {},
   "source": [
    "### Question 16 - Write a Python program to search a literals string in a string and also find the location within the original string where the pattern occurs\n",
    "\n",
    "Sample text : 'The quick brown fox jumps over the lazy dog.'\n",
    "\n",
    "    Searched words : 'fox'\n"
   ]
  },
  {
   "cell_type": "code",
   "execution_count": 217,
   "id": "91f6ba0f",
   "metadata": {},
   "outputs": [
    {
     "name": "stdout",
     "output_type": "stream",
     "text": [
      "('fox', 16)\n"
     ]
    }
   ],
   "source": [
    "import re\n",
    "\n",
    "search_word = 'fox'\n",
    "\n",
    "my_string = \"The quick brown fox jumps over the lazy dog.\"\n",
    "\n",
    "def search_string_and_location(my_string,search_word):\n",
    "    \n",
    "    location = my_string.find(search_word)\n",
    "#    print(location)\n",
    "    \n",
    "    if location != -1:\n",
    "        return search_word,location\n",
    "    else:\n",
    "        return search_word, \"Not Found\"\n",
    "    \n",
    "my_search = search_string_and_location(my_string,search_word)\n",
    "print(my_search)"
   ]
  },
  {
   "cell_type": "code",
   "execution_count": null,
   "id": "155e26b9",
   "metadata": {},
   "outputs": [],
   "source": []
  },
  {
   "cell_type": "markdown",
   "id": "08f20161",
   "metadata": {},
   "source": [
    "### Question 17- Write a Python program to find the substrings within a string.\n",
    "\n",
    "Sample text : 'Python exercises, PHP exercises, C# exercises'\n",
    "\n",
    "    Pattern : 'exercises'."
   ]
  },
  {
   "cell_type": "code",
   "execution_count": 233,
   "id": "2278c83a",
   "metadata": {},
   "outputs": [
    {
     "name": "stdout",
     "output_type": "stream",
     "text": [
      "[(7, 16), (22, 31), (36, 45)]\n"
     ]
    }
   ],
   "source": [
    "import re\n",
    "\n",
    "def find_substrings(my_string, my_pattern):\n",
    "    regex = re.compile(my_pattern)\n",
    "    matches = regex.finditer(my_string)\n",
    "    substrings = [(match.start(), match.end()) for match in matches]\n",
    "    \n",
    "    return substrings\n",
    "\n",
    "my_string = \"Python exercises, PHP exercises, C# exercises\"\n",
    "\n",
    "my_pattern = \"exercises\"\n",
    "\n",
    "my_substrings = find_substrings(my_string, my_pattern)\n",
    "\n",
    "print(my_substrings)\n"
   ]
  },
  {
   "cell_type": "code",
   "execution_count": null,
   "id": "dc6661da",
   "metadata": {},
   "outputs": [],
   "source": []
  },
  {
   "cell_type": "markdown",
   "id": "230797c1",
   "metadata": {},
   "source": [
    "### Question 18 - Write a Python program to find the occurrence and position of the substrings within a string."
   ]
  },
  {
   "cell_type": "code",
   "execution_count": 247,
   "id": "08d7657c",
   "metadata": {},
   "outputs": [
    {
     "name": "stdout",
     "output_type": "stream",
     "text": [
      "Occurrences of :--> **** the **** are\n",
      "86 : 89\n",
      "127 : 130\n",
      "142 : 145\n"
     ]
    }
   ],
   "source": [
    "import re\n",
    "\n",
    "my_string = \"On August 15th 1947 that India was declared independent from British colonialism, and the reins of control were handed over to the leaders of the Country\"\n",
    "\n",
    "my_substring = \"the\"\n",
    "\n",
    "print(\"Occurrences of :-->\", \"****\", my_substring,\"****\", \"are\")\n",
    "\n",
    "for find_occurrences_and_positions in re.finditer(my_substring, my_string):\n",
    "\n",
    "    start = find_occurrences_and_positions.start()\n",
    "    end = find_occurrences_and_positions.end()\n",
    "    \n",
    "    print(start,\":\",end)\n"
   ]
  },
  {
   "cell_type": "code",
   "execution_count": null,
   "id": "9e6a22bd",
   "metadata": {},
   "outputs": [],
   "source": []
  },
  {
   "cell_type": "markdown",
   "id": "9ea0a490",
   "metadata": {},
   "source": [
    "### Question 19 - Write a Python program to convert a date of yyyy-mm-dd format to dd-mm-yyyy format."
   ]
  },
  {
   "cell_type": "code",
   "execution_count": 251,
   "id": "6fb4ae97",
   "metadata": {},
   "outputs": [
    {
     "name": "stdout",
     "output_type": "stream",
     "text": [
      "27-05-2024\n"
     ]
    }
   ],
   "source": [
    "import re\n",
    "\n",
    "my_date = \"2024-05-27\"\n",
    "old_date_pattern = r'(\\d{4})-(\\d{1,2})-(\\d{1,2})'\n",
    "new_date_pattern = '\\\\3-\\\\2-\\\\1'\n",
    "\n",
    "my_new_date = re.sub(old_date_pattern, new_date_pattern, my_date)\n",
    "\n",
    "print(my_new_date)"
   ]
  },
  {
   "cell_type": "code",
   "execution_count": null,
   "id": "8a2e0b6b",
   "metadata": {},
   "outputs": [],
   "source": []
  },
  {
   "attachments": {},
   "cell_type": "markdown",
   "id": "8575ef03",
   "metadata": {},
   "source": [
    "### Question 20 - Create a function in python to find all decimal numbers with a precision of 1 or 2 in a string. The use of the re.compile() method is mandatory.\n",
    "\n",
    "    Sample Text: \"01.12 0132.123 2.31875 145.8 3.01 27.25 0.25\"\n",
    "\n",
    "    Expected Output: ['01.12', '145.8', '3.01', '27.25', '0.25']"
   ]
  },
  {
   "cell_type": "code",
   "execution_count": 257,
   "id": "0f999b11",
   "metadata": {},
   "outputs": [
    {
     "name": "stdout",
     "output_type": "stream",
     "text": [
      "['01.12', '145.8', '3.01', '27.25', '0.25']\n"
     ]
    }
   ],
   "source": [
    "import re\n",
    "\n",
    "sample_text = \"01.12 0132.123 2.31875 145.8 3.01 27.25 0.25\"\n",
    "\n",
    "my_pattern = re.compile(r'\\b\\d+\\.\\d{1,2}\\b')\n",
    "\n",
    "my_output = my_pattern.findall(sample_text)\n",
    "\n",
    "print(my_output)"
   ]
  },
  {
   "cell_type": "code",
   "execution_count": null,
   "id": "52a19ff0",
   "metadata": {},
   "outputs": [],
   "source": []
  },
  {
   "cell_type": "markdown",
   "id": "75c2840a",
   "metadata": {},
   "source": [
    "### Question 21 - Write a Python program to separate and print the numbers and their position of a given string."
   ]
  },
  {
   "cell_type": "code",
   "execution_count": 268,
   "id": "665dbeee",
   "metadata": {},
   "outputs": [
    {
     "name": "stdout",
     "output_type": "stream",
     "text": [
      "Number:  123  Position:  0\n",
      "Number:  456  Position:  9\n",
      "Number:  789  Position:  18\n",
      "Number:  123  Position:  29\n"
     ]
    }
   ],
   "source": [
    "import re\n",
    "\n",
    "my_string = \"123Hello 456World 789Example 123AnotherOne\"\n",
    "\n",
    "my_pattern = \"\\d+\"\n",
    "\n",
    "for num_pos in re.finditer(my_pattern, my_string):\n",
    "    \n",
    "    print(\"Number: \", num_pos.group(0),\" Position: \",num_pos.start())\n"
   ]
  },
  {
   "cell_type": "code",
   "execution_count": null,
   "id": "dc09ae0b",
   "metadata": {},
   "outputs": [],
   "source": []
  },
  {
   "cell_type": "markdown",
   "id": "0b31a7bf",
   "metadata": {},
   "source": [
    "### Question 22 - Write a regular expression in python program to extract maximum/largest numeric value from a string.\n",
    "\n",
    "    Sample Text:  'My marks in each semester are: 947, 896, 926, 524, 734, 950, 642'\n",
    "\n",
    "    Expected Output: 950\n"
   ]
  },
  {
   "cell_type": "code",
   "execution_count": 299,
   "id": "b22145ab",
   "metadata": {},
   "outputs": [
    {
     "name": "stdout",
     "output_type": "stream",
     "text": [
      "950\n"
     ]
    }
   ],
   "source": [
    "import re\n",
    "\n",
    "my_string = \"My marks in each semester are: 947, 896, 926, 524, 734, 950, 642\"\n",
    "\n",
    "my_pattern = r'\\d+'\n",
    "\n",
    "def extract_max_numeric_value(my_string):\n",
    "\n",
    "    numbers = re.findall(my_pattern, my_string)\n",
    "    if numbers:\n",
    "        max_number = max(map(int, numbers))\n",
    "        return max_number\n",
    "    else:\n",
    "        return None  \n",
    "\n",
    "my_max_number = extract_max_numeric_value(my_string)\n",
    "print(my_max_number)\n"
   ]
  },
  {
   "cell_type": "code",
   "execution_count": null,
   "id": "ea72e043",
   "metadata": {},
   "outputs": [],
   "source": []
  },
  {
   "cell_type": "markdown",
   "id": "3bd412e9",
   "metadata": {},
   "source": [
    "### Question 23 - Create a function in python to insert spaces between words starting with capital letters.\n",
    "\n",
    "    Sample Text: “RegularExpressionIsAnImportantTopicInPython\"\n",
    "\n",
    "    Expected Output: Regular Expression Is An Important Topic In Python"
   ]
  },
  {
   "cell_type": "code",
   "execution_count": 308,
   "id": "d4342de1",
   "metadata": {},
   "outputs": [
    {
     "name": "stdout",
     "output_type": "stream",
     "text": [
      " Regular Expression Is An Important Topic In Python\n"
     ]
    }
   ],
   "source": [
    "my_string = \"RegularExpressionIsAnImportantTopicInPython\"\n",
    "\n",
    "def insert_space(my_string):\n",
    "    my_output = re.sub(r'([A-Z])',r' \\1',my_string)\n",
    "    return my_output\n",
    "\n",
    "run_fun = insert_space(my_string)\n",
    "\n",
    "print(run_fun)"
   ]
  },
  {
   "cell_type": "code",
   "execution_count": null,
   "id": "a586dcb6",
   "metadata": {},
   "outputs": [],
   "source": []
  },
  {
   "cell_type": "markdown",
   "id": "9732c2a2",
   "metadata": {},
   "source": [
    "### Question 24 - Python regex to find sequences of one upper case letter followed by lower case letters"
   ]
  },
  {
   "cell_type": "code",
   "execution_count": 316,
   "id": "32d7c158",
   "metadata": {},
   "outputs": [
    {
     "name": "stdout",
     "output_type": "stream",
     "text": [
      "['Regular', 'Expression', 'Is', 'An', 'Important', 'Topic', 'In', 'Python']\n"
     ]
    }
   ],
   "source": [
    "my_string24 = \"RegularExpression 1 IsAn 2 ImportantTopic 3 InPython\"\n",
    "\n",
    "pattern = r'[A-Z][a-z]+'\n",
    "\n",
    "my_regex = re.findall(pattern,my_string24)\n",
    "\n",
    "print(my_regex)"
   ]
  },
  {
   "cell_type": "code",
   "execution_count": null,
   "id": "fe9a3bcd",
   "metadata": {},
   "outputs": [],
   "source": []
  },
  {
   "cell_type": "markdown",
   "id": "d315b31b",
   "metadata": {},
   "source": [
    "### Question 25 - Write a Python program to remove continuous duplicate words from Sentence using Regular Expression.\n",
    "\n",
    "    Sample Text: \"Hello hello world world\"\n",
    "\n",
    "    Expected Output: Hello hello world"
   ]
  },
  {
   "cell_type": "code",
   "execution_count": 320,
   "id": "8b7e98eb",
   "metadata": {},
   "outputs": [
    {
     "name": "stdout",
     "output_type": "stream",
     "text": [
      "Hello world\n"
     ]
    }
   ],
   "source": [
    "my_string = \"Hello hello world world\"\n",
    "\n",
    "my_pattern = r'\\b(\\w+)(\\s+\\1\\b)'\n",
    "\n",
    "def my_program_remove_dup(my_string):\n",
    "    remove_duplicate = re.sub(my_pattern,r'\\1', my_string, flags=re.IGNORECASE)\n",
    "    return remove_duplicate\n",
    "\n",
    "my_output = my_program_remove_dup(my_string)\n",
    "print(my_output)"
   ]
  },
  {
   "cell_type": "code",
   "execution_count": null,
   "id": "be4e3f11",
   "metadata": {},
   "outputs": [],
   "source": []
  },
  {
   "cell_type": "markdown",
   "id": "31a517fc",
   "metadata": {},
   "source": [
    "### Question 26 -  Write a python program using RegEx to accept string ending with alphanumeric character."
   ]
  },
  {
   "cell_type": "code",
   "execution_count": 328,
   "id": "fea83388",
   "metadata": {},
   "outputs": [
    {
     "name": "stdout",
     "output_type": "stream",
     "text": [
      "True\n"
     ]
    }
   ],
   "source": [
    "my_string26 = \"Regular Expression1 Is An Important Topic3 In Python5\"\n",
    "\n",
    "my_pattern = r\"\\w$\"\n",
    "\n",
    "def check_alphanum(my_string26):\n",
    "  \n",
    "    my_match = re.search(my_pattern, my_string)\n",
    "  \n",
    "    if my_match:\n",
    "        return True\n",
    "    else:\n",
    "        return False\n",
    "    \n",
    "my_output = check_alphanum(my_string26)\n",
    "\n",
    "print(my_output)"
   ]
  },
  {
   "cell_type": "code",
   "execution_count": null,
   "id": "18066a4c",
   "metadata": {},
   "outputs": [],
   "source": []
  },
  {
   "cell_type": "markdown",
   "id": "9eb6511e",
   "metadata": {},
   "source": [
    "### Question 27 - Write a python program using RegEx to extract the hashtags.\n",
    "\n",
    "    Sample Text:  \"\"\"RT @kapil_kausik: #Doltiwal I mean #xyzabc is \"hurt\" by #Demonetization as the same has rendered USELESS <ed><U+00A0><U+00BD><ed><U+00B1><U+0089> \"acquired funds\" No wo\"\"\"\n",
    "    \n",
    "    Expected Output: ['#Doltiwal', '#xyzabc', '#Demonetization']"
   ]
  },
  {
   "cell_type": "code",
   "execution_count": 332,
   "id": "51d499f4",
   "metadata": {},
   "outputs": [
    {
     "name": "stdout",
     "output_type": "stream",
     "text": [
      "['#Doltiwal', '#xyzabc', '#Demonetization']\n"
     ]
    }
   ],
   "source": [
    "my_string = \"\"\"RT @kapil_kausik: #Doltiwal I mean #xyzabc is \"hurt\" by #Demonetization as the same has rendered USELESS <ed><U+00A0><U+00BD><ed><U+00B1><U+0089> \"acquired funds\" No wo\"\"\"\n",
    "\n",
    "my_pattern = r'#\\w+'\n",
    "\n",
    "def my_program(string):\n",
    "    all_hashtags = re.findall(my_pattern,string)\n",
    "    return all_hashtags\n",
    "\n",
    "my_output = my_program(my_string)\n",
    "print(my_output)"
   ]
  },
  {
   "cell_type": "code",
   "execution_count": null,
   "id": "79b3729b",
   "metadata": {},
   "outputs": [],
   "source": []
  },
  {
   "cell_type": "markdown",
   "id": "4347eb8a",
   "metadata": {},
   "source": [
    "### Question 28 - Write a python program using RegEx to remove <U+..> like symbols\n",
    "\n",
    "    Check the below sample text, there are strange symbols something of the sort <U+..> all over the place. You need to come up with a general Regex expression that will cover all such symbols.\n",
    "\n",
    "    Sample Text: \"@Jags123456 Bharat band on 28??<ed><U+00A0><U+00BD><ed><U+00B8><U+0082>Those who  are protesting #demonetization  are all different party leaders\"\n",
    "\n",
    "    Expected Output: @Jags123456 Bharat band on 28??<ed><ed>Those who  are protesting #demonetization  are all different party leaders"
   ]
  },
  {
   "cell_type": "code",
   "execution_count": 335,
   "id": "22aba984",
   "metadata": {},
   "outputs": [
    {
     "name": "stdout",
     "output_type": "stream",
     "text": [
      "@Jags123456 Bharat band on 28??<ed><ed>Those who  are protesting #demonetization  are all different party leaders\n"
     ]
    }
   ],
   "source": [
    "my_string = \"@Jags123456 Bharat band on 28??<ed><U+00A0><U+00BD><ed><U+00B8><U+0082>Those who  are protesting #demonetization  are all different party leaders\"\n",
    "\n",
    "my_pattern = r'<U\\+\\w+>'\n",
    "\n",
    "def remove_symbols(string):\n",
    "    all_symbols = re.sub(my_pattern,\"\",string)\n",
    "    return all_symbols\n",
    "\n",
    "my_output = remove_symbols(my_string)\n",
    "print(my_output)"
   ]
  },
  {
   "cell_type": "code",
   "execution_count": null,
   "id": "0ed29725",
   "metadata": {},
   "outputs": [],
   "source": []
  },
  {
   "cell_type": "markdown",
   "id": "b68b221c",
   "metadata": {},
   "source": [
    "### Question 29 - Write a python program to extract dates from the text stored in the text file.\n",
    "\n",
    "    Sample Text: Ron was born on 12-09-1992 and he was admitted to school 15-12-1999.\n",
    "    \n",
    "    Note- Store this sample text in the file and then extract dates."
   ]
  },
  {
   "cell_type": "code",
   "execution_count": 342,
   "id": "a4181cc3",
   "metadata": {},
   "outputs": [
    {
     "name": "stdout",
     "output_type": "stream",
     "text": [
      "['12-09-1992', '15-12-1999']\n"
     ]
    }
   ],
   "source": [
    "with open(\"Question_29_Sample_text.txt\") as file:\n",
    "    sample_text = file.read()\n",
    "#    print(sample_text)\n",
    "\n",
    "my_pattern = r'\\d{2}-\\d{2}-\\d{4}'\n",
    "\n",
    "def my_prog_ext_dates(string):\n",
    "    ext_dates = re.findall(my_pattern, string)\n",
    "    return ext_dates\n",
    "\n",
    "my_output = my_prog_ext_dates(sample_text)\n",
    "\n",
    "print(my_output)"
   ]
  },
  {
   "cell_type": "code",
   "execution_count": null,
   "id": "96399117",
   "metadata": {},
   "outputs": [],
   "source": []
  },
  {
   "cell_type": "markdown",
   "id": "7b6b72c3",
   "metadata": {},
   "source": [
    "### Question 30 - Create a function in python to remove all words from a string of length between 2 and 4.\n",
    "\n",
    "    The use of the re.compile() method is mandatory.\n",
    "    \n",
    "    Sample Text: \"The following example creates an ArrayList with a capacity of 50 elements. 4 elements are then added to the ArrayList and the ArrayList is trimmed accordingly.\"\n",
    "\n",
    "    Expected Output:  following example creates ArrayList a capacity elements. 4 elements added ArrayList ArrayList trimmed accordingly."
   ]
  },
  {
   "cell_type": "code",
   "execution_count": 347,
   "id": "1b922118",
   "metadata": {},
   "outputs": [
    {
     "name": "stdout",
     "output_type": "stream",
     "text": [
      " following example creates ArrayList a capacity elements. 4 elements added ArrayList ArrayList trimmed accordingly.\n"
     ]
    }
   ],
   "source": [
    "my_string = \"The following example creates an ArrayList with a capacity of 50 elements. 4 elements are then added to the ArrayList and the ArrayList is trimmed accordingly.\"\n",
    "\n",
    "my_pattern = r'\\b\\w{2,4}\\b'\n",
    "\n",
    "def my_fun(string):\n",
    "    remove_pattern = re.compile(my_pattern)\n",
    "    remove_words = re.sub(remove_pattern,\"\",string)\n",
    "    remove_words = re.sub(r'\\s+',\" \",remove_words)\n",
    "    return remove_words\n",
    "\n",
    "my_output = my_fun(my_string)\n",
    "\n",
    "print(my_output)\n"
   ]
  },
  {
   "cell_type": "code",
   "execution_count": null,
   "id": "33253ecd",
   "metadata": {},
   "outputs": [],
   "source": []
  }
 ],
 "metadata": {
  "kernelspec": {
   "display_name": "Python 3 (ipykernel)",
   "language": "python",
   "name": "python3"
  },
  "language_info": {
   "codemirror_mode": {
    "name": "ipython",
    "version": 3
   },
   "file_extension": ".py",
   "mimetype": "text/x-python",
   "name": "python",
   "nbconvert_exporter": "python",
   "pygments_lexer": "ipython3",
   "version": "3.11.5"
  }
 },
 "nbformat": 4,
 "nbformat_minor": 5
}
