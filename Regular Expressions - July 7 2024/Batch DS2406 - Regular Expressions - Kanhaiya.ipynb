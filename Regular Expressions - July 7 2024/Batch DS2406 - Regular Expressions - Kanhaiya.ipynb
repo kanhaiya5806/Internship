{
 "cells": [
  {
   "cell_type": "markdown",
   "id": "3d3be081",
   "metadata": {},
   "source": [
    "# Batch DS2406 - Regular Expressions"
   ]
  },
  {
   "attachments": {},
   "cell_type": "markdown",
   "id": "ac0fd6b2",
   "metadata": {},
   "source": [
    "### Question 1 - Write a Python program to replace all occurrences of a space, comma, or dot with a colon."
   ]
  },
  {
   "cell_type": "code",
   "execution_count": 7,
   "id": "267297f1",
   "metadata": {},
   "outputs": [],
   "source": [
    "import re"
   ]
  },
  {
   "cell_type": "code",
   "execution_count": 16,
   "id": "ca954e21",
   "metadata": {
    "scrolled": true
   },
   "outputs": [
    {
     "name": "stdout",
     "output_type": "stream",
     "text": [
      "I:am:Kanhaiya:from:batch:DS2406:FlipRobo:\n"
     ]
    }
   ],
   "source": [
    "String1 = \"I am Kanhaiya from batch DS2406, FlipRobo.\"\n",
    "NewString = re.sub('[ |,|.]+',\":\",String1)\n",
    "print(NewString)"
   ]
  },
  {
   "cell_type": "code",
   "execution_count": null,
   "id": "028ff53a",
   "metadata": {},
   "outputs": [],
   "source": []
  },
  {
   "attachments": {},
   "cell_type": "markdown",
   "id": "70dcb86d",
   "metadata": {},
   "source": [
    "### Question 2 -  Create a dataframe using the dictionary below and remove everything (commas (,), !, XXXX, ;, etc.) from the columns except words.\n",
    "##### Dictionary- {'SUMMARY' : ['hello, world!', 'XXXXX test', '123four, five:; six...']}"
   ]
  },
  {
   "cell_type": "code",
   "execution_count": 17,
   "id": "af5cefa2",
   "metadata": {},
   "outputs": [],
   "source": [
    "import pandas as pd"
   ]
  },
  {
   "cell_type": "code",
   "execution_count": 22,
   "id": "fd448a20",
   "metadata": {},
   "outputs": [],
   "source": [
    "Dictionary={'SUMMARY' : ['hello, world!', 'XXXXX test', '123four, five:; six...']}\n",
    "df=pd.DataFrame(Dictionary)"
   ]
  },
  {
   "cell_type": "code",
   "execution_count": 31,
   "id": "e27f0c0c",
   "metadata": {},
   "outputs": [],
   "source": [
    "Pattern = \"XXXXX|,|!|\\d|:|;|\\.\""
   ]
  },
  {
   "cell_type": "code",
   "execution_count": 32,
   "id": "7b587ce9",
   "metadata": {},
   "outputs": [
    {
     "data": {
      "text/plain": [
       "0      hello world\n",
       "1             test\n",
       "2    four five six\n",
       "Name: SUMMARY, dtype: object"
      ]
     },
     "execution_count": 32,
     "metadata": {},
     "output_type": "execute_result"
    }
   ],
   "source": [
    "df['SUMMARY'].str.replace(Pattern,\"\",regex=True)"
   ]
  },
  {
   "cell_type": "code",
   "execution_count": null,
   "id": "e55939e9",
   "metadata": {},
   "outputs": [],
   "source": []
  },
  {
   "attachments": {},
   "cell_type": "markdown",
   "id": "75ff54e8",
   "metadata": {},
   "source": [
    "### Question 3 - Create a function in python to find all words that are at least 4 characters long in a string. The use of the re.compile() method is mandatory."
   ]
  },
  {
   "cell_type": "code",
   "execution_count": 48,
   "id": "e8a06389",
   "metadata": {},
   "outputs": [],
   "source": [
    "def my_function(my_string):\n",
    "    \n",
    "    pattern = re.compile(r'\\b\\w{4}\\b')\n",
    "    Result=pattern.findall(my_string)\n",
    "    return Result"
   ]
  },
  {
   "cell_type": "code",
   "execution_count": 51,
   "id": "b4aa588b",
   "metadata": {},
   "outputs": [],
   "source": [
    "my_string=\"Hell oskar world tera has a long berra FOUR\"\n",
    "\n",
    "Output=my_function(my_string)"
   ]
  },
  {
   "cell_type": "code",
   "execution_count": 52,
   "id": "3dc66085",
   "metadata": {},
   "outputs": [
    {
     "name": "stdout",
     "output_type": "stream",
     "text": [
      "['Hell', 'tera', 'long', 'FOUR']\n"
     ]
    }
   ],
   "source": [
    "print(Output)"
   ]
  },
  {
   "cell_type": "code",
   "execution_count": null,
   "id": "de7558b6",
   "metadata": {},
   "outputs": [],
   "source": []
  },
  {
   "cell_type": "markdown",
   "id": "784dd2ad",
   "metadata": {},
   "source": [
    "### Question 4 - Create a function in python to find all three, four, and five character words in a string. The use of the re.compile() method is mandatory."
   ]
  },
  {
   "cell_type": "code",
   "execution_count": 54,
   "id": "613742ae",
   "metadata": {},
   "outputs": [
    {
     "name": "stdout",
     "output_type": "stream",
     "text": [
      "['Hell', 'oskar', 'world', 'tera', 'has', 'long', 'berra', 'FOUR']\n"
     ]
    }
   ],
   "source": [
    "def my_function(my_string):\n",
    "    \n",
    "    pattern = re.compile(r'\\b\\w{3,5}\\b')\n",
    "    Result=pattern.findall(my_string)\n",
    "    return Result\n",
    "\n",
    "my_string=\"Hell oskar world tera has a long berra FOUR\"\n",
    "\n",
    "Output=my_function(my_string)\n",
    "\n",
    "print(Output)"
   ]
  },
  {
   "cell_type": "code",
   "execution_count": null,
   "id": "41295d62",
   "metadata": {},
   "outputs": [],
   "source": []
  },
  {
   "attachments": {},
   "cell_type": "markdown",
   "id": "2672845e",
   "metadata": {},
   "source": [
    "### Question 5 - Create a function in Python to remove the parenthesis in a list of strings. The use of the re.compile() method is mandatory.\n",
    "\n",
    "Sample Text: [\"example (.com)\", \"hr@fliprobo (.com)\", \"github (.com)\", \"Hello (Data Science World)\", \"Data (Scientist)\"]\n",
    "\n",
    "Expected Output:\n",
    "\n",
    "example.com\n",
    "\n",
    "hr@fliprobo.com\n",
    "\n",
    "github.com\n",
    "\n",
    "Hello Data Science World\n"
   ]
  },
  {
   "cell_type": "code",
   "execution_count": 59,
   "id": "4956ab46",
   "metadata": {},
   "outputs": [
    {
     "name": "stdout",
     "output_type": "stream",
     "text": [
      "example .com\n",
      "hr@fliprobo .com\n",
      "github .com\n",
      "Hello Data Science World\n",
      "Data Scientist\n"
     ]
    }
   ],
   "source": [
    "def my_function(my_string):\n",
    "    \n",
    "    pattern = re.compile(r'[(|)]')\n",
    "    Result=[pattern.sub('',string) for string in my_string]\n",
    "    return Result\n",
    "\n",
    "my_string = [\"example (.com)\", \"hr@fliprobo (.com)\", \"github (.com)\", \"Hello (Data Science World)\", \"Data (Scientist)\"]\n",
    "\n",
    "Output=my_function(my_string)\n",
    "\n",
    "for string in Output:\n",
    "    print(string)"
   ]
  },
  {
   "cell_type": "code",
   "execution_count": null,
   "id": "ba9991db",
   "metadata": {},
   "outputs": [],
   "source": []
  },
  {
   "attachments": {},
   "cell_type": "markdown",
   "id": "8c86c57b",
   "metadata": {},
   "source": [
    "### Question 6 - Write a python program to remove the parenthesis area from the text stored in the text file using Regular Expression.\n",
    "\n",
    "Sample Text: [\"example (.com)\", \"hr@fliprobo (.com)\", \"github (.com)\", \"Hello (Data Science World)\", \"Data (Scientist)\"]\n",
    "Expected Output: [\"example\", \"hr@fliprobo\", \"github\", \"Hello\", \"Data\"]\n",
    "\n",
    "Note - \n",
    "Store given sample text in the text file and then to remove the parenthesis area from the text."
   ]
  },
  {
   "cell_type": "code",
   "execution_count": null,
   "id": "84444360",
   "metadata": {},
   "outputs": [],
   "source": []
  }
 ],
 "metadata": {
  "kernelspec": {
   "display_name": "Python 3 (ipykernel)",
   "language": "python",
   "name": "python3"
  },
  "language_info": {
   "codemirror_mode": {
    "name": "ipython",
    "version": 3
   },
   "file_extension": ".py",
   "mimetype": "text/x-python",
   "name": "python",
   "nbconvert_exporter": "python",
   "pygments_lexer": "ipython3",
   "version": "3.11.5"
  }
 },
 "nbformat": 4,
 "nbformat_minor": 5
}
