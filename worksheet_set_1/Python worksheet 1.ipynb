{
 "cells": [
  {
   "attachments": {},
   "cell_type": "markdown",
   "id": "da104844",
   "metadata": {},
   "source": [
    "### Question 11.\tWrite a python program to find the factorial of a number."
   ]
  },
  {
   "cell_type": "code",
   "execution_count": 9,
   "id": "5fa26bb4",
   "metadata": {},
   "outputs": [
    {
     "name": "stdout",
     "output_type": "stream",
     "text": [
      "720\n"
     ]
    }
   ],
   "source": [
    "def factorial(n):\n",
    "    \n",
    "    factor=1\n",
    "    \n",
    "    for i in range(n):\n",
    "        factor*=i+1\n",
    "    return factor\n",
    "\n",
    "num=6\n",
    "\n",
    "print(factorial(num))\n"
   ]
  },
  {
   "cell_type": "code",
   "execution_count": null,
   "id": "4d9bfedf",
   "metadata": {},
   "outputs": [],
   "source": []
  },
  {
   "cell_type": "markdown",
   "id": "07030124",
   "metadata": {},
   "source": [
    "### Question 12. Write a python program to find whether a number is prime or composite."
   ]
  },
  {
   "cell_type": "code",
   "execution_count": 21,
   "id": "6184aa12",
   "metadata": {},
   "outputs": [
    {
     "name": "stdout",
     "output_type": "stream",
     "text": [
      "Enter number: 52\n",
      "52  is a composite number\n"
     ]
    }
   ],
   "source": [
    "number = int(input(\"Enter number: \"))\n",
    "\n",
    "is_prime = True\n",
    "\n",
    "if number > 1:\n",
    "    for divisor in range(2,number):\n",
    "#        print(\"Divisor: \",divisor)\n",
    "        if (number % divisor) == 0:\n",
    "            is_prime = False\n",
    "            break\n",
    "    if is_prime:\n",
    "        print(number,\" is a prime number\")\n",
    "    else:\n",
    "        print(number, \" is a composite number\")\n"
   ]
  },
  {
   "cell_type": "code",
   "execution_count": null,
   "id": "8240d31c",
   "metadata": {},
   "outputs": [],
   "source": []
  },
  {
   "attachments": {},
   "cell_type": "markdown",
   "id": "62bb2ae6",
   "metadata": {},
   "source": [
    "### Question 13.\tWrite a python program to check whether a given string is palindrome or not."
   ]
  },
  {
   "cell_type": "code",
   "execution_count": 49,
   "id": "633be4a9",
   "metadata": {},
   "outputs": [
    {
     "name": "stdout",
     "output_type": "stream",
     "text": [
      "Please enter a word: madam\n",
      "madam  is a palindrome\n"
     ]
    }
   ],
   "source": [
    "\n",
    "\n",
    "def is_palindrome(string):\n",
    "    \n",
    "    length = len(string)\n",
    "    \n",
    "    for i in range (0,length//2):\n",
    "        if (string[i] != string[length - i - 1]):\n",
    "            return False\n",
    "        \n",
    "    return True\n",
    "\n",
    "text = input(\"Please enter a word: \")\n",
    "\n",
    "if is_palindrome(text):\n",
    "    print(text, \" is a palindrome\")\n",
    "else:\n",
    "    print(text, \" is not a palindrome\")\n",
    "        \n",
    "        "
   ]
  },
  {
   "cell_type": "code",
   "execution_count": null,
   "id": "ea0b3d52",
   "metadata": {},
   "outputs": [],
   "source": []
  },
  {
   "attachments": {},
   "cell_type": "markdown",
   "id": "eb3b5446",
   "metadata": {},
   "source": [
    "### Question 14.\tWrite a Python program to get the third side of right-angled triangle from two given sides."
   ]
  },
  {
   "cell_type": "code",
   "execution_count": 53,
   "id": "8bc5e911",
   "metadata": {},
   "outputs": [
    {
     "name": "stdout",
     "output_type": "stream",
     "text": [
      "Please enter the value for a: 4\n",
      "Please enter the value of b: 3\n",
      "The 3rd side is:  5.0\n"
     ]
    }
   ],
   "source": [
    "side_a = int(input(\"Please enter the value for a: \"))\n",
    "side_b = int(input(\"Please enter the value of b: \"))\n",
    "\n",
    "#pythagoras theorem = (a**2) + (b**2) = (c**2) or c = ((a**2) + (b**2))** 0.5\n",
    "\n",
    "side_c = ((side_a**2) + (side_b**2)) ** 0.5\n",
    "\n",
    "print(\"The 3rd side is: \", side_c)\n",
    "\n"
   ]
  },
  {
   "cell_type": "code",
   "execution_count": null,
   "id": "27e10743",
   "metadata": {},
   "outputs": [],
   "source": []
  },
  {
   "cell_type": "markdown",
   "id": "b6736f71",
   "metadata": {},
   "source": [
    "### Question 15. Write a python program to print the frequency of each of the characters present in a given string. "
   ]
  },
  {
   "cell_type": "code",
   "execution_count": 75,
   "id": "30c0fc3d",
   "metadata": {},
   "outputs": [
    {
     "name": "stdout",
     "output_type": "stream",
     "text": [
      "Please enter a string: Kanhaiyaaa aaaa\n",
      "{'K': 1, 'a': 9, 'n': 1, 'h': 1, 'i': 1, 'y': 1, ' ': 1}\n"
     ]
    }
   ],
   "source": [
    "string = input(\"Please enter a string: \")\n",
    "\n",
    "string_frequency = {}\n",
    "\n",
    "for i in string:\n",
    "    if i in string_frequency:\n",
    "        string_frequency[i] +=1\n",
    "    \n",
    "    else:\n",
    "        string_frequency[i] = 1\n",
    "    \n",
    "print(str(string_frequency))\n",
    "    "
   ]
  },
  {
   "cell_type": "code",
   "execution_count": null,
   "id": "dcf9ebdc",
   "metadata": {},
   "outputs": [],
   "source": []
  },
  {
   "cell_type": "code",
   "execution_count": null,
   "id": "b43e5a8c",
   "metadata": {},
   "outputs": [],
   "source": []
  }
 ],
 "metadata": {
  "kernelspec": {
   "display_name": "Python 3 (ipykernel)",
   "language": "python",
   "name": "python3"
  },
  "language_info": {
   "codemirror_mode": {
    "name": "ipython",
    "version": 3
   },
   "file_extension": ".py",
   "mimetype": "text/x-python",
   "name": "python",
   "nbconvert_exporter": "python",
   "pygments_lexer": "ipython3",
   "version": "3.11.5"
  }
 },
 "nbformat": 4,
 "nbformat_minor": 5
}
